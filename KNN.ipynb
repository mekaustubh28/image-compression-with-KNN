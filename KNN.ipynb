{
 "cells": [
  {
   "cell_type": "code",
   "execution_count": null,
   "metadata": {},
   "outputs": [],
   "source": [
    "# Importing the all necessary packages\n",
    "import scipy.io\n",
    "import imageio.v2 as imageio\n",
    "import pandas as pd\n",
    "import numpy as np\n",
    "import matplotlib.pyplot as plt\n",
    "import random\n",
    "import cv2\n",
    "import time\n"
   ]
  },
  {
   "cell_type": "markdown",
   "metadata": {},
   "source": [
    "### First working with a dataset to get hands on KNN"
   ]
  },
  {
   "cell_type": "code",
   "execution_count": null,
   "metadata": {},
   "outputs": [],
   "source": [
    "mat = scipy.io.loadmat('data.mat')"
   ]
  },
  {
   "cell_type": "code",
   "execution_count": null,
   "metadata": {},
   "outputs": [],
   "source": [
    "X = mat['X']"
   ]
  },
  {
   "cell_type": "code",
   "execution_count": null,
   "metadata": {},
   "outputs": [],
   "source": [
    "# We can see data set as 3 clusters\n",
    "plt.scatter(X[:,0],X[:,1])\n",
    "plt.show()"
   ]
  },
  {
   "cell_type": "code",
   "execution_count": null,
   "metadata": {},
   "outputs": [],
   "source": [
    "def assignCluster(X,centroid):\n",
    "    k = centroid.shape[0]\n",
    "    l = X.shape[0]\n",
    "    cluster = np.zeros((l,1), dtype=int) # to store to which cluster does x[i] belong\n",
    "    for i in range(l):\n",
    "        clus = np.zeros((1,k))\n",
    "        for j in range(k):\n",
    "            clus[:,j] = np.sqrt(np.sum(np.power((X[i,:] - centroid[j,:]),2))) # finding distance between x[i] and all centroids\n",
    "        cluster[i] = np.argmin(clus) + 1 # getting the smallest distance between x[i] and all centroids\n",
    "    return cluster"
   ]
  },
  {
   "cell_type": "code",
   "execution_count": null,
   "metadata": {},
   "outputs": [],
   "source": [
    "# finding centroid of all cluster dataset and moving current centroid to new point\n",
    "def findCentroid(X, cluster, k):\n",
    "    l,m = X.shape\n",
    "    centroids = np.zeros((k,m))\n",
    "    total = np.zeros((k,1))\n",
    "    for i in range(l):\n",
    "        idx = cluster[i]-1\n",
    "        centroids[idx,:] += X[i,:]\n",
    "        total[idx] +=1\n",
    "    centroids = centroids/total\n",
    "    return centroids"
   ]
  },
  {
   "cell_type": "code",
   "execution_count": null,
   "metadata": {},
   "outputs": [],
   "source": [
    "# Getting inital centroids as any K random dataset from X\n",
    "def getCentroids(clusterNum,X):\n",
    "    centroids = np.zeros([clusterNum,X.shape[1]])\n",
    "    for i in range(clusterNum):\n",
    "        index = random.randint(0,X.shape[0]-1)\n",
    "        centroids[i] = X[index]\n",
    "\n",
    "    return centroids"
   ]
  },
  {
   "cell_type": "code",
   "execution_count": null,
   "metadata": {},
   "outputs": [],
   "source": [
    "class Kmeans:\n",
    "    def __init__(self, K, cluster, minDist, centroids, iterations):\n",
    "        self.K = K\n",
    "        self.cluster = cluster\n",
    "        self.minDist = minDist\n",
    "        self.centroids = centroids\n",
    "        self.iterations = iterations\n",
    "        "
   ]
  },
  {
   "cell_type": "code",
   "execution_count": null,
   "metadata": {},
   "outputs": [],
   "source": [
    "def KNN(X, clusterNum):\n",
    "    converge = True\n",
    "    i = 0\n",
    "    centroids = getCentroids(clusterNum,X)\n",
    "    while converge:\n",
    "        i=i+1\n",
    "        minDist = 0\n",
    "        centroids_previous = centroids\n",
    "        start = time.time()\n",
    "        cluster = assignCluster(X,centroids)\n",
    "        mid = time.time()\n",
    "        centroids = findCentroid(X, cluster, clusterNum)\n",
    "        end = time.time()\n",
    "        print(mid-start,end-mid)\n",
    "        if (centroids_previous == centroids).all() or i==10:\n",
    "            converge = False\n",
    "        \n",
    "    kmeans = Kmeans(clusterNum,cluster,minDist,centroids,i)\n",
    "    return kmeans"
   ]
  },
  {
   "cell_type": "code",
   "execution_count": null,
   "metadata": {},
   "outputs": [],
   "source": [
    "kmeans = KNN(X, 3)"
   ]
  },
  {
   "cell_type": "code",
   "execution_count": null,
   "metadata": {},
   "outputs": [],
   "source": [
    "data = [[] for i in range(len(kmeans.centroids))]\n",
    "for j,clus in zip(X,kmeans.cluster):\n",
    "    data[clus[0]-1].append(j)\n",
    "\n",
    "for i in data:\n",
    "    d = np.array(i,dtype='float64')\n",
    "    plt.scatter(d[:,0],d[:,1])\n",
    "plt.scatter(kmeans.centroids[:,0],kmeans.centroids[:,1])\n",
    "plt.show()"
   ]
  },
  {
   "cell_type": "markdown",
   "metadata": {},
   "source": [
    "### Image Compression Start"
   ]
  },
  {
   "cell_type": "code",
   "execution_count": null,
   "metadata": {},
   "outputs": [],
   "source": [
    "image = imageio.imread('woof_meow.jpg')\n",
    "image.shape"
   ]
  },
  {
   "cell_type": "code",
   "execution_count": null,
   "metadata": {},
   "outputs": [],
   "source": [
    "# reshaping data to 2d\n",
    "image_2D = image.reshape(image.shape[0]*image.shape[1],image.shape[2])\n",
    "image_2D.shape"
   ]
  },
  {
   "cell_type": "code",
   "execution_count": null,
   "metadata": {},
   "outputs": [],
   "source": [
    "kmeans_image = KNN(image_2D, 16)"
   ]
  },
  {
   "cell_type": "code",
   "execution_count": null,
   "metadata": {},
   "outputs": [],
   "source": [
    "# Compression of image\n",
    "image_compress = image_2D.copy()\n",
    "for i in range(image_compress.shape[0]):\n",
    "    image_compress[i] = kmeans_image.centroids[kmeans_image.cluster[i]-1]"
   ]
  },
  {
   "cell_type": "code",
   "execution_count": null,
   "metadata": {},
   "outputs": [],
   "source": [
    "image_compress.shape"
   ]
  },
  {
   "cell_type": "code",
   "execution_count": null,
   "metadata": {},
   "outputs": [],
   "source": [
    "image_compress = image_compress.reshape(image.shape[0],image.shape[1],image.shape[2])"
   ]
  },
  {
   "cell_type": "code",
   "execution_count": null,
   "metadata": {},
   "outputs": [],
   "source": [
    "# Setting up plot size\n",
    "fig, ax = plt.subplots(1,2,figsize=(9, 9))\n",
    "# Function to load the image on plot \n",
    "ax[0].imshow(image)\n",
    "ax[0].set_title('Original')\n",
    "ax[1].imshow(image_compress)\n",
    "ax[1].set_title('Compressed with K='+str(kmeans_image.centroids.shape[0]))\n",
    "fig.tight_layout()\n",
    "plt.show()"
   ]
  },
  {
   "cell_type": "code",
   "execution_count": null,
   "metadata": {},
   "outputs": [],
   "source": [
    "image_comp = cv2.cvtColor(image_compress, cv2.COLOR_BGR2RGB)\n",
    "cv2.imwrite('output.jpg', image_comp)"
   ]
  }
 ],
 "metadata": {
  "interpreter": {
   "hash": "e7370f93d1d0cde622a1f8e1c04877d8463912d04d973331ad4851f04de6915a"
  },
  "kernelspec": {
   "display_name": "Python 3.10.4 64-bit",
   "language": "python",
   "name": "python3"
  },
  "language_info": {
   "codemirror_mode": {
    "name": "ipython",
    "version": 3
   },
   "file_extension": ".py",
   "mimetype": "text/x-python",
   "name": "python",
   "nbconvert_exporter": "python",
   "pygments_lexer": "ipython3",
   "version": "3.10.4"
  },
  "orig_nbformat": 4
 },
 "nbformat": 4,
 "nbformat_minor": 2
}
